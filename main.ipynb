{
 "cells": [
  {
   "cell_type": "code",
   "execution_count": null,
   "metadata": {},
   "outputs": [],
   "source": [
    "# Import Database\n",
    "\n",
    "import pandas as pd\n",
    "\n",
    "CSV_PATH = 'data/clientes.csv'\n",
    "\n",
    "df = pd.read_csv(CSV_PATH)\n",
    "\n",
    "display(df)"
   ]
  },
  {
   "cell_type": "code",
   "execution_count": null,
   "metadata": {},
   "outputs": [],
   "source": [
    "# Prepare database for IA\n",
    "\n",
    "display(df.info())\n",
    "\n",
    "# remove nulls (nothing here) and transform object (text) to numbers\n",
    "# score_credito (Good, Standard, Poor) is keeped that way"
   ]
  },
  {
   "cell_type": "code",
   "execution_count": null,
   "metadata": {},
   "outputs": [],
   "source": [
    "# Use Label Encoder to transform\n",
    "\n",
    "from sklearn.preprocessing import LabelEncoder\n",
    "\n",
    "# profissao\n",
    "coder = LabelEncoder()\n",
    "df['profissao'] = coder.fit_transform(df['profissao'])\n",
    "\n",
    "# mix_credito\n",
    "coder2 = LabelEncoder()\n",
    "df['mix_credito'] = coder2.fit_transform(df['mix_credito'])\n",
    "\n",
    "# comportamento_pagamento\n",
    "coder3 = LabelEncoder()\n",
    "df['comportamento_pagamento'] = coder3.fit_transform(df['comportamento_pagamento'])\n",
    "\n",
    "display(df.info())"
   ]
  },
  {
   "cell_type": "code",
   "execution_count": 14,
   "metadata": {},
   "outputs": [],
   "source": [
    "# x is what we need to predict\n",
    "# y is what we use to do prediction\n",
    "\n",
    "x = df.drop(columns='score_credito')\n",
    "y = df['score_credito']\n",
    "\n",
    "# Train AI (60~80%), test AI (20~40%) from database, depends on size\n",
    "\n",
    "from sklearn.model_selection import train_test_split\n",
    "\n",
    "x_train, x_test, y_train, y_test = train_test_split(x, y, test_size=0.3)"
   ]
  },
  {
   "cell_type": "code",
   "execution_count": null,
   "metadata": {},
   "outputs": [],
   "source": [
    "# Decision tree -> RandomForest\n",
    "# Nearest Neighbors -> KNN\n",
    "\n",
    "# Import IA\n",
    "from sklearn.ensemble import RandomForestClassifier\n",
    "from sklearn.neighbors import KNeighborsClassifier\n",
    "\n",
    "# Create IA\n",
    "forest_model = RandomForestClassifier()\n",
    "knn_model = KNeighborsClassifier()\n",
    "\n",
    "# Train IA\n",
    "forest_model.fit(x_train, y_train)\n",
    "knn_model.fit(x_train, y_train)"
   ]
  },
  {
   "cell_type": "code",
   "execution_count": null,
   "metadata": {},
   "outputs": [],
   "source": [
    "# Avaliate which AI model is best\n",
    "forest_predict = forest_model.predict(x_test)\n",
    "knn_predict = knn_model.predict(x_test)\n",
    "\n",
    "# Accuracy\n",
    "from sklearn.metrics import accuracy_score\n",
    "\n",
    "display(accuracy_score(y_test, forest_predict))  # best model\n",
    "display(accuracy_score(y_test, knn_predict))"
   ]
  },
  {
   "cell_type": "code",
   "execution_count": null,
   "metadata": {},
   "outputs": [],
   "source": [
    "# New predictions\n",
    "# Decision tree\n",
    "\n",
    "NEW_CSV_PATH = 'data/novos_clientes.csv'\n",
    "\n",
    "new_df = pd.read_csv(NEW_CSV_PATH)\n",
    "display(new_df)\n",
    "\n",
    "new_df['profissao'] = coder.fit_transform(new_df['profissao'])\n",
    "new_df['mix_credito'] = coder2.fit_transform(new_df['mix_credito'])\n",
    "new_df['comportamento_pagamento'] = coder3.fit_transform(new_df['comportamento_pagamento'])\n",
    "\n",
    "prediction = forest_model.predict(new_df)\n",
    "display(prediction)"
   ]
  }
 ],
 "metadata": {
  "kernelspec": {
   "display_name": ".venv",
   "language": "python",
   "name": "python3"
  },
  "language_info": {
   "codemirror_mode": {
    "name": "ipython",
    "version": 3
   },
   "file_extension": ".py",
   "mimetype": "text/x-python",
   "name": "python",
   "nbconvert_exporter": "python",
   "pygments_lexer": "ipython3",
   "version": "3.12.6"
  }
 },
 "nbformat": 4,
 "nbformat_minor": 2
}
